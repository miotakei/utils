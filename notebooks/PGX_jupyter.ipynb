{
 "cells": [
  {
   "cell_type": "markdown",
   "metadata": {},
   "source": [
    "# PGXをJupyter notebookで実行して可視化する\n",
    "\n",
    "## はじめに\n",
    "\n",
    "Oracleのグラフネットワーク分析用ツールの[PGX（Parallel Graph AnalytiX）](https://www.oracle.com/technetwork/oracle-labs/parallel-graph-analytix/overview/index.html)を\n",
    "Jupyterから実行し、出力結果をグラフとしてJupyter notebook上に可視化させる。\n",
    "\n",
    "PGX実行には、Javaのライブラリを呼び出して使う。\n",
    "そのためのライブラリとして[JPype](http://jpype.sourceforge.net/)を利用する。\n",
    "\n",
    "可視化には、vis.jsを利用する。\n",
    "Jupyterからvis.jsを実行させる方法について詳細は[こちら](https://qiita.com/tmioko/items/b8061a4240511db99dd8)。\n",
    "\n",
    "参考：   \n",
    "https://gianniceresa.com/2017/07/pgx-client-tool-language/   \n",
    "https://blogs.oracle.com/bigdataspatialgraph/using-pgql-in-python"
   ]
  },
  {
   "cell_type": "markdown",
   "metadata": {},
   "source": [
    "### JVM起動、PGXセッション作成"
   ]
  },
  {
   "cell_type": "code",
   "execution_count": null,
   "metadata": {
    "collapsed": true
   },
   "outputs": [],
   "source": [
    "from jpype import * \n",
    "import glob"
   ]
  },
  {
   "cell_type": "code",
   "execution_count": null,
   "metadata": {
    "collapsed": true
   },
   "outputs": [],
   "source": [
    "# set a classpath\n",
    "filenames = glob.glob('/home/miotakei/Applications/pgx-19.1.0/lib/*')\n",
    "pgx_jar_classpath = ':'.join(filenames)"
   ]
  },
  {
   "cell_type": "code",
   "execution_count": null,
   "metadata": {
    "collapsed": true
   },
   "outputs": [],
   "source": [
    "# start JVM \n",
    "startJVM(getDefaultJVMPath(), \"-ea\", \"-Djava.class.path=\" + pgx_jar_classpath )\n",
    "\n",
    "pgxClass = JClass('oracle.pgx.api.Pgx')"
   ]
  },
  {
   "cell_type": "code",
   "execution_count": null,
   "metadata": {
    "collapsed": true
   },
   "outputs": [],
   "source": [
    "# create a session on a PGX server\n",
    "session = pgxClass.createSession('http://localhost:7007', 'session')\n",
    "\n",
    "# close session\n",
    "#session.close()"
   ]
  },
  {
   "cell_type": "markdown",
   "metadata": {},
   "source": [
    "### グラフデータ読み込み、分析、可視化用データ作成"
   ]
  },
  {
   "cell_type": "code",
   "execution_count": null,
   "metadata": {
    "collapsed": true
   },
   "outputs": [],
   "source": [
    "# read Graph\n",
    "graph = session.readGraphWithProperties(\"<path of json file>\")"
   ]
  },
  {
   "cell_type": "code",
   "execution_count": null,
   "metadata": {
    "collapsed": true
   },
   "outputs": [],
   "source": [
    "print(graph)"
   ]
  },
  {
   "cell_type": "code",
   "execution_count": null,
   "metadata": {
    "collapsed": true
   },
   "outputs": [],
   "source": [
    "# check the graph data\n",
    "checkgraph = graph.queryPgql(\" \\\n",
    "  SELECT  n.name, m.name, n.degree\\\n",
    "  MATCH (n)-[e]->(m) \\\n",
    "  ORDER BY e.times \\\n",
    "  LIMIT 10 \\\n",
    "\")\n",
    "\n",
    "it=checkgraph.getResults().iterator()\n",
    "\n",
    "while (it.hasNext()):\n",
    "    element = it.next();\n",
    "    print(element.toString())"
   ]
  },
  {
   "cell_type": "code",
   "execution_count": null,
   "metadata": {
    "collapsed": true
   },
   "outputs": [],
   "source": [
    "# analysis\n",
    "analyst = session.createAnalyst()\n",
    "dc = analyst.degreeCentrality(graph)"
   ]
  },
  {
   "cell_type": "code",
   "execution_count": null,
   "metadata": {
    "collapsed": true
   },
   "outputs": [],
   "source": [
    "# check vertex name \n",
    "print(graph.getVertexProperties())"
   ]
  },
  {
   "cell_type": "code",
   "execution_count": null,
   "metadata": {
    "collapsed": true
   },
   "outputs": [],
   "source": [
    "# node data\n",
    "pgxResultSetNode = graph.queryPgql(\" \\\n",
    "  SELECT id(n), n.name, n.prob, e.times \\\n",
    "  MATCH (n) \\\n",
    "               ,(x)-[e]->(y)  \\\n",
    "  WHERE ((n) = (x) OR (n) = (y)) \\\n",
    "  AND e.times >= 100 \\\n",
    "\")\n",
    "\n",
    "it_node = pgxResultSetNode.getResults().iterator()\n",
    "dict_node = [{\"id\":i.get(0),\"label\":i.get(1), \"value\":i.get(2)} for i in it_node]\n",
    "\n",
    "# delete duplicate\n",
    "dict_node = [dict(t) for t in set([tuple(d.items()) for d in dict_node])]"
   ]
  },
  {
   "cell_type": "code",
   "execution_count": null,
   "metadata": {
    "collapsed": true
   },
   "outputs": [],
   "source": [
    "dict_node"
   ]
  },
  {
   "cell_type": "code",
   "execution_count": null,
   "metadata": {
    "collapsed": true
   },
   "outputs": [],
   "source": [
    "# edge data\n",
    "pgxResultSetEdge = graph.queryPgql(\" \\\n",
    "  SELECT id(x), id(y), e.times/30 \\\n",
    "  MATCH (x)-[e]->(y) \\\n",
    "  WHERE e.times >= 100 \\\n",
    "\")\n",
    "\n",
    "it_edge = pgxResultSetEdge.getResults().iterator()\n",
    "dict_edge = [{\"from\":i.get(0),\"to\":i.get(1), \"width\":i.get(2)} for i in it_edge]"
   ]
  },
  {
   "cell_type": "code",
   "execution_count": null,
   "metadata": {
    "collapsed": true
   },
   "outputs": [],
   "source": [
    "dict_edge"
   ]
  },
  {
   "cell_type": "markdown",
   "metadata": {
    "collapsed": true
   },
   "source": [
    "### 可視化用データJSON化、Javascriptのクラス化"
   ]
  },
  {
   "cell_type": "code",
   "execution_count": null,
   "metadata": {
    "collapsed": true
   },
   "outputs": [],
   "source": [
    "from IPython.display import Javascript\n",
    "import json\n",
    "\n",
    "# Transform the graph into a JSON graph\n",
    "data = {\"nodes\":dict_node, \"edges\":dict_edge}\n",
    "jsonGraph = json.dumps(data, indent=4)\n",
    "\n",
    "# Send to Javascript\n",
    "Javascript(\"\"\"window.jsonGraph={};\"\"\".format(jsonGraph))"
   ]
  },
  {
   "cell_type": "markdown",
   "metadata": {},
   "source": [
    "### HTMLタグ作成\n",
    "このCellの下にグラフが可視化される。"
   ]
  },
  {
   "cell_type": "code",
   "execution_count": null,
   "metadata": {
    "collapsed": true
   },
   "outputs": [],
   "source": [
    "%%html\n",
    "<div id=\"mynetwork\"></div>"
   ]
  },
  {
   "cell_type": "markdown",
   "metadata": {},
   "source": [
    "### vis.js のjavascript作成"
   ]
  },
  {
   "cell_type": "code",
   "execution_count": null,
   "metadata": {
    "collapsed": true
   },
   "outputs": [],
   "source": [
    "%%javascript\n",
    "requirejs.config({\n",
    "    paths: {\n",
    "        vis: 'vis'\n",
    "    }\n",
    "});\n",
    "\n",
    "require(['vis'], function(vis){\n",
    "    \n",
    "    // create a network\n",
    "    var container = document.getElementById('mynetwork');\n",
    "    var options = {\n",
    "        width: '1000px',\n",
    "        height: '800px',\n",
    "        nodes: {\n",
    "            shape: 'dot',\n",
    "            font: {\n",
    "                face: 'Tahoma'\n",
    "            }\n",
    "        },\n",
    "        edges: {\n",
    "          arrows: {\n",
    "            to: {\n",
    "              enabled: true\n",
    "            }\n",
    "          }\n",
    "        }\n",
    "    };        \n",
    "         \n",
    "    // We load the JSON graph we generated from iPython input\n",
    "    var graph = window.jsonGraph;\n",
    "    \n",
    "    // Display Graph\n",
    "    var network = new vis.Network(container, graph, options);\n",
    "});"
   ]
  },
  {
   "cell_type": "code",
   "execution_count": null,
   "metadata": {
    "collapsed": true
   },
   "outputs": [],
   "source": [
    "#shutdownJVM()\n",
    "shutdownJVM()"
   ]
  }
 ],
 "metadata": {
  "kernelspec": {
   "display_name": "Python 3",
   "language": "python",
   "name": "python3"
  },
  "language_info": {
   "codemirror_mode": {
    "name": "ipython",
    "version": 3
   },
   "file_extension": ".py",
   "mimetype": "text/x-python",
   "name": "python",
   "nbconvert_exporter": "python",
   "pygments_lexer": "ipython3",
   "version": "3.6.1"
  }
 },
 "nbformat": 4,
 "nbformat_minor": 2
}
