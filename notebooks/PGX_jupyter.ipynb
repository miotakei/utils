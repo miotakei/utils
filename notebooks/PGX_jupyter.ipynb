{
 "cells": [
  {
   "cell_type": "code",
   "execution_count": null,
   "metadata": {
    "collapsed": true
   },
   "outputs": [],
   "source": [
    "from jpype import * \n",
    "import glob"
   ]
  },
  {
   "cell_type": "code",
   "execution_count": null,
   "metadata": {
    "collapsed": true
   },
   "outputs": [],
   "source": [
    "filenames = glob.glob('/home/miotakei/Applications/pgx-19.1.0/lib/*')"
   ]
  },
  {
   "cell_type": "code",
   "execution_count": null,
   "metadata": {
    "collapsed": true
   },
   "outputs": [],
   "source": [
    "pgx_jar_classpath = ':'.join(filenames)"
   ]
  },
  {
   "cell_type": "code",
   "execution_count": null,
   "metadata": {
    "collapsed": true
   },
   "outputs": [],
   "source": [
    "# start JVM (any other param can be added like TrustStore, KeyStore etc.\n",
    "startJVM(getDefaultJVMPath(), \"-ea\", \"-Djava.class.path=\" + pgx_jar_classpath )\n",
    "\n",
    "pgxClass = JClass('oracle.pgx.api.Pgx')"
   ]
  },
  {
   "cell_type": "code",
   "execution_count": null,
   "metadata": {
    "collapsed": true
   },
   "outputs": [],
   "source": [
    "# create a session on a PGX server\n",
    "session = pgxClass.createSession('http://localhost:7007', 'session1')\n",
    "\n",
    "# load the graph from disk with a JSON file\n",
    "# important: Json file is accessible by python, graph data file must be accessible by the PGX server\n"
   ]
  },
  {
   "cell_type": "code",
   "execution_count": null,
   "metadata": {
    "collapsed": true
   },
   "outputs": [],
   "source": [
    "graph = session.readGraphWithProperties(\"<path of json file>\")"
   ]
  },
  {
   "cell_type": "code",
   "execution_count": null,
   "metadata": {
    "collapsed": true
   },
   "outputs": [],
   "source": [
    "analyst = session.createAnalyst()"
   ]
  },
  {
   "cell_type": "code",
   "execution_count": null,
   "metadata": {
    "collapsed": true
   },
   "outputs": [],
   "source": [
    "pgxResultSetNode = graph.queryPgql(\" \\\n",
    "  SELECT id(n), n.name, n.prob, e.times \\\n",
    "  MATCH (n) \\\n",
    "              , (x)-[e]->(y)  \\\n",
    "  WHERE e.times >= (SELECT e.times MATCH (n) WHERE max) \\\n",
    "  AND ((n) = (x) OR (n) = (y)) \\\n",
    "  ORDER BY e.times DESC \\\n",
    "\")"
   ]
  },
  {
   "cell_type": "code",
   "execution_count": null,
   "metadata": {
    "collapsed": true
   },
   "outputs": [],
   "source": [
    "pgxResultSetEdge = graph.queryPgql(\" \\\n",
    "  SELECT id(x), id(y), e.times \\\n",
    "  MATCH (x)-[e]->(y) \\\n",
    "  WHERE e.times >= 234 \\\n",
    "\")"
   ]
  },
  {
   "cell_type": "code",
   "execution_count": null,
   "metadata": {
    "collapsed": true
   },
   "outputs": [],
   "source": [
    "it_node = pgxResultSetNode.getResults().iterator()\n",
    "dict_node = [{\"id\":i.get(0),\"label\":i.get(1), \"value\":i.get(2)} for i in it_node]\n",
    "# 重複削除\n",
    "dict_node = [dict(t) for t in set([tuple(d.items()) for d in dict_node])]"
   ]
  },
  {
   "cell_type": "code",
   "execution_count": null,
   "metadata": {
    "collapsed": true
   },
   "outputs": [],
   "source": [
    "it_edge = pgxResultSetEdge.getResults().iterator()\n",
    "dict_edge = [{\"from\":i.get(0),\"to\":i.get(1)} for i in it_edge]"
   ]
  },
  {
   "cell_type": "code",
   "execution_count": null,
   "metadata": {},
   "outputs": [],
   "source": [
    "from IPython.display import Javascript\n",
    "import json\n",
    "\n",
    "# Transform the graph into a JSON graph\n",
    "data = {\"nodes\":dict_node, \"edges\":dict_edge}\n",
    "jsonGraph = json.dumps(data, indent=4)\n",
    "\n",
    "# Send to Javascript\n",
    "Javascript(\"\"\"window.jsonGraph={};\"\"\".format(jsonGraph))"
   ]
  },
  {
   "cell_type": "code",
   "execution_count": null,
   "metadata": {},
   "outputs": [],
   "source": [
    "%%html\n",
    "<div id=\"mynetwork\"></div>"
   ]
  },
  {
   "cell_type": "code",
   "execution_count": null,
   "metadata": {},
   "outputs": [],
   "source": [
    "%%javascript\n",
    "requirejs.config({\n",
    "    paths: {\n",
    "        vis: 'vis'\n",
    "    }\n",
    "});\n",
    "\n",
    "require(['vis'], function(vis){\n",
    "    \n",
    "    // create a network\n",
    "    var container = document.getElementById('mynetwork');\n",
    "    var options = {\n",
    "        width: '800px',\n",
    "        height: '800px'\n",
    "    };\n",
    "    \n",
    "    // We load the JSON graph we generated from iPython input\n",
    "    var graph = window.jsonGraph;\n",
    "    \n",
    "    // Display Graph\n",
    "    var network = new vis.Network(container, graph, options);\n",
    "});"
   ]
  },
  {
   "cell_type": "code",
   "execution_count": null,
   "metadata": {
    "collapsed": true
   },
   "outputs": [],
   "source": [
    "#shutdownJVM()\n",
    "shutdownJVM()"
   ]
  }
 ],
 "metadata": {
  "kernelspec": {
   "display_name": "Python 3",
   "language": "python",
   "name": "python3"
  },
  "language_info": {
   "codemirror_mode": {
    "name": "ipython",
    "version": 3
   },
   "file_extension": ".py",
   "mimetype": "text/x-python",
   "name": "python",
   "nbconvert_exporter": "python",
   "pygments_lexer": "ipython3",
   "version": "3.6.1"
  }
 },
 "nbformat": 4,
 "nbformat_minor": 2
}
