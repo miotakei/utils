{
 "cells": [
  {
   "cell_type": "markdown",
   "metadata": {},
   "source": [
    "# PGXをJupyter notebookで実行して可視化する\n",
    "\n",
    "## はじめに\n",
    "\n",
    "Oracleのグラフネットワーク分析用ツールの[PGX（Parallel Graph AnalytiX）](https://www.oracle.com/technetwork/oracle-labs/parallel-graph-analytix/overview/index.html)を\n",
    "Jupyterから実行し、出力結果をグラフとしてJupyter notebook上に可視化させる。\n",
    "\n",
    "PGX実行には、Javaのライブラリを呼び出して使う。\n",
    "そのためのライブラリとして[JPype](http://jpype.sourceforge.net/)を利用する。\n",
    "\n",
    "可視化は[pyvis](https://pyvis.readthedocs.io/en/latest/install.html)を利用する。\n",
    "\n",
    "参考：   \n",
    "https://gianniceresa.com/2017/07/pgx-client-tool-language/   \n",
    "https://blogs.oracle.com/bigdataspatialgraph/using-pgql-in-python"
   ]
  },
  {
   "cell_type": "markdown",
   "metadata": {},
   "source": [
    "### JVM起動、PGXセッション作成"
   ]
  },
  {
   "cell_type": "code",
   "execution_count": null,
   "metadata": {
    "collapsed": true
   },
   "outputs": [],
   "source": [
    "from jpype import * \n",
    "import glob"
   ]
  },
  {
   "cell_type": "code",
   "execution_count": null,
   "metadata": {
    "collapsed": true
   },
   "outputs": [],
   "source": [
    "# set a classpath\n",
    "filenames = glob.glob('/home/miotakei/Applications/pgx-19.1.0/lib/*')\n",
    "pgx_jar_classpath = ':'.join(filenames)"
   ]
  },
  {
   "cell_type": "code",
   "execution_count": null,
   "metadata": {
    "collapsed": true
   },
   "outputs": [],
   "source": [
    "# start JVM \n",
    "startJVM(getDefaultJVMPath(), \"-ea\", \"-Djava.class.path=\" + pgx_jar_classpath )\n",
    "\n",
    "pgxClass = JClass('oracle.pgx.api.Pgx')"
   ]
  },
  {
   "cell_type": "code",
   "execution_count": null,
   "metadata": {},
   "outputs": [],
   "source": [
    "# create a session on a PGX server\n",
    "session = pgxClass.createSession('http://localhost:7007', 'session')\n",
    "\n",
    "# close session\n",
    "#session.close()"
   ]
  },
  {
   "cell_type": "markdown",
   "metadata": {},
   "source": [
    "### グラフデータ読み込み、分析、可視化用データ作成"
   ]
  },
  {
   "cell_type": "code",
   "execution_count": null,
   "metadata": {},
   "outputs": [],
   "source": [
    "# read Graph\n",
    "graph = session.readGraphWithProperties(\"<path of json file>\")"
   ]
  },
  {
   "cell_type": "code",
   "execution_count": null,
   "metadata": {},
   "outputs": [],
   "source": [
    "print(graph)"
   ]
  },
  {
   "cell_type": "code",
   "execution_count": null,
   "metadata": {},
   "outputs": [],
   "source": [
    "# check the graph data\n",
    "checkgraph = graph.queryPgql(\"\"\"\n",
    "  SELECT  n.name, m.name, e.times\n",
    "  MATCH (n)-[e]->(m)\n",
    "  ORDER BY e.times\n",
    "  LIMIT 10\n",
    "\"\"\")\n",
    "\n",
    "it=checkgraph.getResults().iterator()\n",
    "\n",
    "while (it.hasNext()):\n",
    "    element = it.next();\n",
    "    print(element.toString())"
   ]
  },
  {
   "cell_type": "code",
   "execution_count": null,
   "metadata": {
    "collapsed": true
   },
   "outputs": [],
   "source": [
    "# analysis\n",
    "analyst = session.createAnalyst()\n",
    "dc = analyst.degreeCentrality(graph)"
   ]
  },
  {
   "cell_type": "code",
   "execution_count": null,
   "metadata": {},
   "outputs": [],
   "source": [
    "# check vertex name \n",
    "print(graph.getVertexProperties())"
   ]
  },
  {
   "cell_type": "code",
   "execution_count": null,
   "metadata": {
    "collapsed": true
   },
   "outputs": [],
   "source": [
    "# node data\n",
    "pgxResultSetNode = graph.queryPgql(\"\"\"\n",
    "  SELECT id(n), n.name, n.prob, e.times\n",
    "  MATCH (n)\n",
    "               ,(x)-[e]->(y)\n",
    "  WHERE ((n) = (x) OR (n) = (y))\n",
    "  AND e.times >= 100\n",
    "\"\"\")\n",
    "\n",
    "it_node = pgxResultSetNode.getResults().iterator()\n",
    "node_size = []\n",
    "node_label =[]\n",
    "node_value = []\n",
    "for i in it_node:\n",
    "    size = i.get(0)\n",
    "    if size not in node_size:\n",
    "        node_size.append(size)\n",
    "        node_label.append(i.get(1))\n",
    "        node_value.append(i.get(2))"
   ]
  },
  {
   "cell_type": "code",
   "execution_count": null,
   "metadata": {
    "collapsed": true
   },
   "outputs": [],
   "source": [
    "dict_node"
   ]
  },
  {
   "cell_type": "code",
   "execution_count": null,
   "metadata": {
    "collapsed": true
   },
   "outputs": [],
   "source": [
    "# edge data\n",
    "pgxResultSetEdge = graph.queryPgql(\"\"\"\n",
    "  SELECT id(x), id(y), e.times/30 \n",
    "  MATCH (x)-[e]->(y)\n",
    "  WHERE e.times >= 100\n",
    "\"\"\")\n",
    "\n",
    "it_edge = pgxResultSetEdge.getResults().iterator()\n",
    "edge_list = []\n",
    "for i in it_edge:\n",
    "    edge_tuble = (i.get(0), i.get(1), i.get(2))\n",
    "    edge_list.append(edge_tuble)"
   ]
  },
  {
   "cell_type": "code",
   "execution_count": null,
   "metadata": {
    "collapsed": true
   },
   "outputs": [],
   "source": [
    "dict_edge"
   ]
  },
  {
   "cell_type": "markdown",
   "metadata": {
    "collapsed": true
   },
   "source": [
    "### 可視化"
   ]
  },
  {
   "cell_type": "code",
   "execution_count": null,
   "metadata": {},
   "outputs": [],
   "source": [
    "from pyvis.network import Network\n",
    "\n",
    "g = Network(notebook=True, height = '800px', width = '100%', directed = True)\n",
    "g.add_nodes(node_size, value = node_value, label = node_label)\n",
    "g.add_edges(edge_list)\n",
    "g.show_buttons()\n",
    "g.show('graph.html')"
   ]
  },
  {
   "cell_type": "code",
   "execution_count": null,
   "metadata": {
    "collapsed": true
   },
   "outputs": [],
   "source": [
    "#shutdownJVM()\n",
    "shutdownJVM()"
   ]
  }
 ],
 "metadata": {
  "kernelspec": {
   "display_name": "Python 3",
   "language": "python",
   "name": "python3"
  },
  "language_info": {
   "codemirror_mode": {
    "name": "ipython",
    "version": 3
   },
   "file_extension": ".py",
   "mimetype": "text/x-python",
   "name": "python",
   "nbconvert_exporter": "python",
   "pygments_lexer": "ipython3",
   "version": "3.6.1"
  }
 },
 "nbformat": 4,
 "nbformat_minor": 2
}
