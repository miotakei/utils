{
 "cells": [
  {
   "cell_type": "code",
   "execution_count": null,
   "metadata": {},
   "outputs": [],
   "source": [
    "from IPython.display import Javascript\n",
    "import json"
   ]
  },
  {
   "cell_type": "code",
   "execution_count": null,
   "metadata": {},
   "outputs": [],
   "source": [
    "nodes = [\n",
    "        {'id': 1, 'label': 'Beyonce', 'group': 'United States'},\n",
    "        {'id': 2, 'label': 'Barak Obama', 'group': 'United States'},\n",
    "        {'id': 3, 'label': 'Miley Cyrus', 'group': 'United States'},\n",
    "        {'id': 4, 'label': 'Pope Francis', 'group': 'Vatican'},\n",
    "        {'id': 5, 'label': 'Vladimir Putin', 'group': 'Rusia'}\n",
    "]\n",
    "\n",
    "edges = [\n",
    "        {'from': 1, 'to': 2},\n",
    "        {'from': 1, 'to': 3},\n",
    "        {'from': 2, 'to': 4},\n",
    "        {'from': 2, 'to': 5}\n",
    "]"
   ]
  },
  {
   "cell_type": "code",
   "execution_count": null,
   "metadata": {},
   "outputs": [],
   "source": [
    "data = {\"nodes\":nodes, \"edges\":edges}\n",
    "jsonGraph = json.dumps(data, indent=4)"
   ]
  },
  {
   "cell_type": "code",
   "execution_count": null,
   "metadata": {
    "scrolled": true
   },
   "outputs": [],
   "source": [
    "Javascript(\"\"\"window.jsonGraph={};\"\"\".format(jsonGraph))"
   ]
  },
  {
   "cell_type": "code",
   "execution_count": null,
   "metadata": {},
   "outputs": [],
   "source": [
    "%%html\n",
    "<div id=\"mynetwork\"></div>"
   ]
  },
  {
   "cell_type": "code",
   "execution_count": null,
   "metadata": {},
   "outputs": [],
   "source": [
    "%%javascript\n",
    "requirejs.config({\n",
    "    paths: {\n",
    "        vis: 'vis'\n",
    "    }\n",
    "});\n",
    "\n",
    "require(['vis'], function(vis){\n",
    "    \n",
    "    // create a network\n",
    "    var container = document.getElementById('mynetwork');\n",
    "    var options = {\n",
    "        width: '800px',\n",
    "        height: '400px'\n",
    "    };\n",
    "    \n",
    "    // We load the JSON graph we generated from input\n",
    "    var graph = window.jsonGraph;\n",
    "    \n",
    "    // Display Graph\n",
    "    var network = new vis.Network(container, graph, options);\n",
    "});"
   ]
  },
  {
   "cell_type": "code",
   "execution_count": null,
   "metadata": {},
   "outputs": [],
   "source": []
  }
 ],
 "metadata": {
  "kernelspec": {
   "display_name": "Python 3",
   "language": "python",
   "name": "python3"
  },
  "language_info": {
   "codemirror_mode": {
    "name": "ipython",
    "version": 3
   },
   "file_extension": ".py",
   "mimetype": "text/x-python",
   "name": "python",
   "nbconvert_exporter": "python",
   "pygments_lexer": "ipython3",
   "version": "3.6.6"
  }
 },
 "nbformat": 4,
 "nbformat_minor": 2
}
