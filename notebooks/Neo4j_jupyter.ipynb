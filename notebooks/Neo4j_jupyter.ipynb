{
 "cells": [
  {
   "cell_type": "code",
   "execution_count": 46,
   "metadata": {
    "collapsed": true
   },
   "outputs": [],
   "source": [
    "import pandas as pd\n",
    "from neo4j  import GraphDatabase, basic_auth\n",
    "import matplotlib.pyplot as plt\n",
    "%matplotlib inline"
   ]
  },
  {
   "cell_type": "code",
   "execution_count": 47,
   "metadata": {
    "collapsed": true
   },
   "outputs": [],
   "source": [
    "driver = GraphDatabase.driver(\"bolt://localhost:7687\", auth=basic_auth(\"neo4j\", \"Welcome1\"))"
   ]
  },
  {
   "cell_type": "code",
   "execution_count": 48,
   "metadata": {
    "collapsed": true
   },
   "outputs": [],
   "source": [
    "Query = '''CALL algo.betweenness.stream('','',{direction:'both'})\n",
    "YIELD nodeId, centrality\n",
    "MATCH (person:Person) WHERE id(person) = nodeId\n",
    "RETURN person.name, centrality\n",
    "ORDER BY centrality DESC LIMIT 10'''\n",
    "\n",
    "session = driver.session()\n",
    "res = session.run(Query)\n",
    "    \n",
    "col = ['name', 'centrality']\n",
    "df = pd.DataFrame([r.values() for r in res], columns=col)\n",
    "    \n",
    "session.close()\n",
    "\n",
    "del session"
   ]
  },
  {
   "cell_type": "code",
   "execution_count": 49,
   "metadata": {},
   "outputs": [
    {
     "data": {
      "text/plain": [
       "([<matplotlib.axis.XTick at 0x7fe6e6e62208>,\n",
       "  <matplotlib.axis.XTick at 0x7fe6e6e8be48>,\n",
       "  <matplotlib.axis.XTick at 0x7fe6e6e737f0>,\n",
       "  <matplotlib.axis.XTick at 0x7fe6e700f0b8>,\n",
       "  <matplotlib.axis.XTick at 0x7fe6e700fa90>,\n",
       "  <matplotlib.axis.XTick at 0x7fe6e70144a8>,\n",
       "  <matplotlib.axis.XTick at 0x7fe6e7014e80>,\n",
       "  <matplotlib.axis.XTick at 0x7fe6e7019898>,\n",
       "  <matplotlib.axis.XTick at 0x7fe6e70222b0>,\n",
       "  <matplotlib.axis.XTick at 0x7fe6e7022c88>],\n",
       " <a list of 10 Text xticklabel objects>)"
      ]
     },
     "execution_count": 49,
     "metadata": {},
     "output_type": "execute_result"
    },
    {
     "data": {
      "image/png": "[encoded data removed]",
      "text/plain": [
       "<matplotlib.figure.Figure at 0x7fe70fd03748>"
      ]
     },
     "metadata": {},
     "output_type": "display_data"
    }
   ],
   "source": [
    "plt.figure(figsize=(20, 6))\n",
    "plt.bar(list(range(len(df))), df['centrality'])\n",
    "plt.xticks(list(range(len(df))), df['name'])"
   ]
  }
 ],
 "metadata": {
  "kernelspec": {
   "display_name": "Python 3",
   "language": "python",
   "name": "python3"
  },
  "language_info": {
   "codemirror_mode": {
    "name": "ipython",
    "version": 3
   },
   "file_extension": ".py",
   "mimetype": "text/x-python",
   "name": "python",
   "nbconvert_exporter": "python",
   "pygments_lexer": "ipython3",
   "version": "3.6.1"
  }
 },
 "nbformat": 4,
 "nbformat_minor": 2
}
